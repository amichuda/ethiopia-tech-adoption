{
 "cells": [
  {
   "cell_type": "code",
   "execution_count": 88,
   "metadata": {},
   "outputs": [],
   "source": [
    "import pandas as pd\n",
    "import os; os.getcwd()\n",
    "import geopandas as gpd\n",
    "import matplotlib.pyplot as plt\n",
    "import matplotlib as mpl"
   ]
  },
  {
   "cell_type": "code",
   "execution_count": 291,
   "metadata": {},
   "outputs": [
    {
     "name": "stderr",
     "output_type": "stream",
     "text": [
      "/usr/lib/python3.9/site-packages/pandas/io/stata.py:1457: UnicodeWarning: \n",
      "One or more strings in the dta file could not be decoded using utf-8, and\n",
      "so the fallback encoding of latin-1 is being used.  This can happen when a file\n",
      "has been incorrectly encoded by Stata or some other software. You should verify\n",
      "the string values returned are correct.\n",
      "  warnings.warn(msg, UnicodeWarning)\n"
     ]
    }
   ],
   "source": [
    "# Load pandas from zip\n",
    "df = (\n",
    "    pd.read_stata(\"data/full_panel.zip\")\n",
    "    .dropna(subset=['YIELD_cropcutdry_tr'])\n",
    "    )\n",
    "\n",
    "# Drop if don't show up in all 3 waves\n",
    "trajectories = (\n",
    "    df\n",
    "    .query(\"crop_code == 'MAIZE'\")\n",
    "    .dropna(subset= ['impmaize'])\n",
    "    .groupby(['holder_id', 'parcel_id', 'field_id'])['impmaize']\n",
    "    .agg(trajectories = list)\n",
    "    .assign(len_traj = lambda df: df['trajectories'].apply(lambda x: len(x)))\n",
    "    .query(\"len_traj == 3\")\n",
    "    .drop(['len_traj'], axis=1)\n",
    "    )\n",
    "\n",
    "# Merge back\n",
    "balanced_panel_df = df.merge(trajectories, on = ['holder_id'])\n",
    "\n",
    "balanced_panel_df[[\"LAT_DD_MOD\", \"LON_DD_MOD\"]] = balanced_panel_df.groupby('holder_id')[[\"LAT_DD_MOD\", \"LON_DD_MOD\"]].transform('mean')\n"
   ]
  },
  {
   "cell_type": "markdown",
   "metadata": {},
   "source": [
    "## Create Map of Households"
   ]
  },
  {
   "cell_type": "code",
   "execution_count": 292,
   "metadata": {},
   "outputs": [
    {
     "data": {
      "image/png": "[encoded data removed]",
      "text/plain": [
       "<Figure size 432x288 with 2 Axes>"
      ]
     },
     "metadata": {
      "needs_background": "light"
     },
     "output_type": "display_data"
    }
   ],
   "source": [
    "map = gpd.read_file(\"data/ethiopiaworeda/Eth_Woreda_2013.shp\").replace({'REGIONNAME' : {'Beneshangul Gumu' : 'Benishangul Gumuz',\n",
    "                                                                                       'Hareri' : 'Harari',\n",
    "                                                                                       'SNNPR' : 'SNNP',\n",
    "                                                                                       'Oromia' : 'Oromiya',\n",
    "                                                                                       'Somali' : 'Somalie',\n",
    "                                                                                       'Gambela' : 'Gambella'}})\n",
    "\n",
    "# Get number of households per region\n",
    "hhids = balanced_panel_df.drop_duplicates(['holder_id', 'wave']).groupby(['region', 'wave'])['holder_id'].count()\n",
    "\n",
    "fig, ax = plt.subplots()\n",
    "\n",
    "ax.set_axis_off()\n",
    "\n",
    "with mpl.rc_context(rc={'text.usetex': True}):\n",
    "    merged_map = (\n",
    "        map\n",
    "        .dissolve('REGIONNAME')\n",
    "        .merge(hhids, \n",
    "               left_index=True, \n",
    "               right_on = ['region'])\n",
    "        .reset_index('region')\n",
    "        .to_crs(epsg= 4326)\n",
    "    )\n",
    "    \n",
    "    merged_map.plot(column='holder_id',\n",
    "                    legend=True,\n",
    "                    legend_kwds={'label' : \"Number of Households\"},\n",
    "                ax=ax,\n",
    "                cmap = 'Blues',\n",
    "                missing_kwds={'color': 'lightgrey'})\n",
    "    \n",
    "    merged_map.apply(lambda x: ax.annotate(text=x['region'], xy=x.geometry.representative_point().coords[0], ha='center'), axis=1)\n",
    "    \n",
    "    panel_gdf = gpd.GeoDataFrame(balanced_panel_df, geometry=gpd.points_from_xy(balanced_panel_df[\"LON_DD_MOD\"], balanced_panel_df[\"LAT_DD_MOD\"]), crs=4326).plot(color='tab:green', ax=ax, markersize=4)\n",
    "\n",
    "\n",
    "    plt.tight_layout()\n",
    "\n",
    "    plt.savefig(\"results/figures/map_hhids.pdf\", format='pdf', dpi=160)"
   ]
  },
  {
   "cell_type": "markdown",
   "metadata": {},
   "source": [
    "## Create Summary Table"
   ]
  },
  {
   "cell_type": "code",
   "execution_count": 293,
   "metadata": {},
   "outputs": [],
   "source": [
    "def add_note(table, note, n):\n",
    "    \n",
    "    return table.replace(\"\\\\end{tabular}\\n\\\\end{table}\", f\"\\\\multicolumn{{{n}}}{{l}}{{Note: {note}}}\\n\\\\end{{tabular}}\\n\\\\end{{table}}\")\n",
    "\n",
    "summary_latex = (\n",
    "    balanced_panel_df\n",
    "    .assign(dirrigation_codes = lambda df: df['dirrigation'].cat.codes.where(lambda x: x>=0))\n",
    "    [['parcesizeHA_wiz', \n",
    "                       'hhlabor', \n",
    "                       'hiredlabor', \n",
    "                       'age_head_wiz', \n",
    "                       'dist_road_wiz', \n",
    "                       'dist_popcenter_wiz',\n",
    "                       'dist_market_wiz',\n",
    "                       'dist_borderpost_wiz',\n",
    "                       'dist_admctr_wiz',  \n",
    "                       'fertcosts',\n",
    "                       'dirrigation_codes',\n",
    "                       'numadult',\n",
    "                       'numwomen',\n",
    "                       'numchildren',\n",
    "                       'YIELD_cropcutfresh_tr',\n",
    "                       'YIELD_cropcutdry_tr',\n",
    "                       'YIELD_selfr_tr'\n",
    "                       ]]\n",
    "    .describe()\n",
    "    .T[['count', 'mean', 'std', 'min', 'max']]\n",
    "    .rename({'count' : 'N', 'mean' : 'Mean', 'std' : 'Std. Dev.', 'min' : 'Min', 'max' : 'Max'}, axis=1)\n",
    "    .rename({'parcesizeHA_wiz' : 'Parcel Size',\n",
    "              'hhlabor' : 'Household Labor for Harvest (Days)',\n",
    "              'hiredlabor' : 'Hired Labor for Harvest (Days)',\n",
    "              'age_head_wiz' : 'Age of Household Head',\n",
    "              'dist_road_wiz' : 'Distance to Nearest Asphalt Road (km)',\n",
    "              'dist_borderpost_wiz' : 'Distance to Nearest Border (km)',\n",
    "              'dist_market_wiz' : 'Distance to Nearest Market (km)',\n",
    "              'dist_popcenter_wiz' : 'Distance to Nearest Population Center (km)',\n",
    "              'dist_admctr_wiz' : 'Distance to Nearest Administrative Center (km)',\n",
    "              'fertcosts' : 'Fertilizer Costs',\n",
    "              'dirrigation_codes' : 'Do you irrigate?',\n",
    "              'numadult' : 'Number of Adults',\n",
    "              'numwomen' : 'Number of Women',\n",
    "              'numchildren' : 'Number of Children',\n",
    "              'YIELD_cropcutfresh_tr' : 'Crop Cut Fresh Yield (kg/ha)',\n",
    "            'YIELD_cropcutdry_tr' : 'Crop Cut Dry Yield (kg/ha)',\n",
    "            'YIELD_selfr_tr' : 'Self-reported Yields (kg/ha)'\n",
    "              })\n",
    "    .style.format(\"{:,.2f}\".format)\n",
    "    .to_latex(label = \"tbl:summary\",\n",
    "              caption=\"Summary Statistics for Households\",\n",
    "              hrules=True)\n",
    "    )\n",
    "\n",
    "with open(\"results/tables/summary.tex\", 'w') as f:\n",
    "    f.write(add_note(summary_latex, 'Parcel size, yield and distance variables winsorized at the 1\\% level.', 6))"
   ]
  },
  {
   "cell_type": "code",
   "execution_count": 267,
   "metadata": {},
   "outputs": [
    {
     "data": {
      "text/plain": [
       "Index(['YIELD_cropcutfresh', 'YIELD_cropcutdry', 'YIELD_cropcutfresh_tr',\n",
       "       'YIELD_cropcutdry_tr', 'YIELD_selfr', 'YIELD_selfr_tr'],\n",
       "      dtype='object')"
      ]
     },
     "execution_count": 267,
     "metadata": {},
     "output_type": "execute_result"
    }
   ],
   "source": [
    "balanced_panel_df.columns[balanced_panel_df.columns.str.contains(\"YIELD\")]"
   ]
  }
 ],
 "metadata": {
  "interpreter": {
   "hash": "d2152fd7f0bbc62aa1baff8c990435d1e2c7175d001561303988032604c11a48"
  },
  "kernelspec": {
   "display_name": "Python 3.9.7 64-bit",
   "language": "python",
   "name": "python3"
  },
  "language_info": {
   "codemirror_mode": {
    "name": "ipython",
    "version": 3
   },
   "file_extension": ".py",
   "mimetype": "text/x-python",
   "name": "python",
   "nbconvert_exporter": "python",
   "pygments_lexer": "ipython3",
   "version": "3.9.7"
  },
  "orig_nbformat": 4
 },
 "nbformat": 4,
 "nbformat_minor": 2
}

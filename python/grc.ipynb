{
 "cells": [
  {
   "cell_type": "code",
   "execution_count": 1,
   "metadata": {},
   "outputs": [],
   "source": [
    "import pandas as pd\n",
    "import statsmodels.formula.api as smf\n",
    "import numpy as np\n",
    "import re\n",
    "from tqdm.notebook import tqdm\n",
    "from numba import jit"
   ]
  },
  {
   "cell_type": "code",
   "execution_count": 2,
   "metadata": {},
   "outputs": [
    {
     "name": "stderr",
     "output_type": "stream",
     "text": [
      "/usr/lib/python3.9/site-packages/pandas/io/stata.py:1457: UnicodeWarning: \n",
      "One or more strings in the dta file could not be decoded using utf-8, and\n",
      "so the fallback encoding of latin-1 is being used.  This can happen when a file\n",
      "has been incorrectly encoded by Stata or some other software. You should verify\n",
      "the string values returned are correct.\n",
      "  warnings.warn(msg, UnicodeWarning)\n"
     ]
    }
   ],
   "source": [
    "df = pd.read_stata(\"../ethiopia_data/data/processed/full_panel.dta\")"
   ]
  },
  {
   "cell_type": "code",
   "execution_count": 3,
   "metadata": {},
   "outputs": [],
   "source": [
    "trajectories = (\n",
    "    df\n",
    "    .dropna(subset= ['impmaize'])\n",
    "    .groupby(['holder_id'])['impmaize']\n",
    "    .agg(trajectories = list)\n",
    "    .assign(len_traj = lambda df: df['trajectories'].apply(lambda x: len(x)))\n",
    "    .query(\"len_traj == 3\")\n",
    "    .drop(['len_traj'], axis=1)\n",
    "    .assign(trajectories = lambda df: df['trajectories'].astype(str))\n",
    "    .pipe(pd.get_dummies)\n",
    "    .rename(lambda x: x.replace('.0', '').replace(',', '').replace('[', '').replace(']', '').replace(' ', ''), axis=1)\n",
    "    )\n",
    "\n",
    "# merge with df\n",
    "\n",
    "merged_df = (\n",
    "    df\n",
    "    .merge(trajectories, \n",
    "           left_on= ['holder_id'], \n",
    "           right_index=True)\n",
    "\n",
    "    )\n",
    "\n"
   ]
  },
  {
   "cell_type": "code",
   "execution_count": 6,
   "metadata": {},
   "outputs": [],
   "source": [
    "reg_dict = {}\n",
    "\n",
    "outcomes = merged_df.columns[merged_df.columns.str.contains('YIELD')].tolist()\n",
    "h_switchers = merged_df.columns[merged_df.columns.str.contains(\"trajectories_\")][1:7].tolist()\n",
    "h_switchers_int = [f\"{i}:impmaize\" for i in h_switchers]\n",
    "h_no_always = merged_df.columns[merged_df.columns.str.contains(\"trajectories_\")][0:7].tolist()\n",
    "\n",
    "\n",
    "for y in outcomes:\n",
    "    \n",
    "    merged_df_dropna = merged_df.dropna(subset= [y] + ['impmaize'] + h_no_always + h_switchers)\n",
    "\n",
    "    reg_dict[y] = smf.ols(f\"np.arcsinh({y}) ~ -1 + {' + '.join(h_no_always)} + {' + '.join(h_switchers_int)}\", \n",
    "                          data = merged_df_dropna)"
   ]
  },
  {
   "cell_type": "code",
   "execution_count": 7,
   "metadata": {},
   "outputs": [
    {
     "name": "stdout",
     "output_type": "stream",
     "text": [
      "Trying YIELD_cropcutfresh\n",
      "Trying YIELD_cropcutdry\n",
      "Trying YIELD_cropcutfresh_tr\n",
      "Trying YIELD_cropcutdry_tr\n",
      "Trying YIELD_selfr\n",
      "Trying YIELD_selfr_tr\n"
     ]
    }
   ],
   "source": [
    "# Now run weak-id test\n",
    "reg_res_dict = {}\n",
    "\n",
    "for y, mod in reg_dict.items():\n",
    "    merged_df_dropna = merged_df.dropna(subset= [y] + ['impmaize'] + h_no_always + h_switchers)\n",
    "\n",
    "    print(f\"Trying {y}\")\n",
    "    res = mod.fit(cov_type = 'cluster', cov_kwds = {'groups' : merged_df_dropna['holder_id']})\n",
    "    reg_res_dict[y] = res\n"
   ]
  },
  {
   "cell_type": "code",
   "execution_count": 8,
   "metadata": {},
   "outputs": [
    {
     "data": {
      "text/html": [
       "<table class=\"simpletable\">\n",
       "<caption>OLS Regression Results</caption>\n",
       "<tr>\n",
       "  <th>Dep. Variable:</th>    <td>np.arcsinh(YIELD_cropcutdry_tr)</td> <th>  R-squared (uncentered):</th>      <td>   0.243</td> \n",
       "</tr>\n",
       "<tr>\n",
       "  <th>Model:</th>                          <td>OLS</td>               <th>  Adj. R-squared (uncentered):</th> <td>   0.240</td> \n",
       "</tr>\n",
       "<tr>\n",
       "  <th>Method:</th>                    <td>Least Squares</td>          <th>  F-statistic:       </th>          <td>   81.11</td> \n",
       "</tr>\n",
       "<tr>\n",
       "  <th>Date:</th>                    <td>Fri, 26 Nov 2021</td>         <th>  Prob (F-statistic):</th>          <td>6.11e-151</td>\n",
       "</tr>\n",
       "<tr>\n",
       "  <th>Time:</th>                        <td>10:26:13</td>             <th>  Log-Likelihood:    </th>          <td> -8711.6</td> \n",
       "</tr>\n",
       "<tr>\n",
       "  <th>No. Observations:</th>             <td>  3311</td>              <th>  AIC:               </th>          <td>1.745e+04</td>\n",
       "</tr>\n",
       "<tr>\n",
       "  <th>Df Residuals:</th>                 <td>  3298</td>              <th>  BIC:               </th>          <td>1.753e+04</td>\n",
       "</tr>\n",
       "<tr>\n",
       "  <th>Df Model:</th>                     <td>    13</td>              <th>                     </th>              <td> </td>    \n",
       "</tr>\n",
       "<tr>\n",
       "  <th>Covariance Type:</th>              <td>cluster</td>             <th>                     </th>              <td> </td>    \n",
       "</tr>\n",
       "</table>\n",
       "<table class=\"simpletable\">\n",
       "<tr>\n",
       "              <td></td>                 <th>coef</th>     <th>std err</th>      <th>z</th>      <th>P>|z|</th>  <th>[0.025</th>    <th>0.975]</th>  \n",
       "</tr>\n",
       "<tr>\n",
       "  <th>trajectories_000</th>          <td>    2.0528</td> <td>    0.074</td> <td>   27.792</td> <td> 0.000</td> <td>    1.908</td> <td>    2.198</td>\n",
       "</tr>\n",
       "<tr>\n",
       "  <th>trajectories_001</th>          <td>    2.0115</td> <td>    0.312</td> <td>    6.457</td> <td> 0.000</td> <td>    1.401</td> <td>    2.622</td>\n",
       "</tr>\n",
       "<tr>\n",
       "  <th>trajectories_010</th>          <td>    2.1948</td> <td>    0.362</td> <td>    6.064</td> <td> 0.000</td> <td>    1.485</td> <td>    2.904</td>\n",
       "</tr>\n",
       "<tr>\n",
       "  <th>trajectories_011</th>          <td>    1.2052</td> <td>    0.303</td> <td>    3.972</td> <td> 0.000</td> <td>    0.611</td> <td>    1.800</td>\n",
       "</tr>\n",
       "<tr>\n",
       "  <th>trajectories_100</th>          <td>    2.0762</td> <td>    0.372</td> <td>    5.584</td> <td> 0.000</td> <td>    1.347</td> <td>    2.805</td>\n",
       "</tr>\n",
       "<tr>\n",
       "  <th>trajectories_101</th>          <td>    1.9979</td> <td>    0.605</td> <td>    3.304</td> <td> 0.001</td> <td>    0.813</td> <td>    3.183</td>\n",
       "</tr>\n",
       "<tr>\n",
       "  <th>trajectories_110</th>          <td>    3.5740</td> <td>    0.712</td> <td>    5.019</td> <td> 0.000</td> <td>    2.178</td> <td>    4.970</td>\n",
       "</tr>\n",
       "<tr>\n",
       "  <th>trajectories_001:impmaize</th> <td>    0.5566</td> <td>    0.528</td> <td>    1.054</td> <td> 0.292</td> <td>   -0.479</td> <td>    1.592</td>\n",
       "</tr>\n",
       "<tr>\n",
       "  <th>trajectories_010:impmaize</th> <td>   -0.8352</td> <td>    0.556</td> <td>   -1.504</td> <td> 0.133</td> <td>   -1.924</td> <td>    0.254</td>\n",
       "</tr>\n",
       "<tr>\n",
       "  <th>trajectories_011:impmaize</th> <td>    0.9970</td> <td>    0.463</td> <td>    2.155</td> <td> 0.031</td> <td>    0.090</td> <td>    1.904</td>\n",
       "</tr>\n",
       "<tr>\n",
       "  <th>trajectories_100:impmaize</th> <td>   -1.3764</td> <td>    0.535</td> <td>   -2.570</td> <td> 0.010</td> <td>   -2.426</td> <td>   -0.327</td>\n",
       "</tr>\n",
       "<tr>\n",
       "  <th>trajectories_101:impmaize</th> <td>   -0.6308</td> <td>    0.714</td> <td>   -0.884</td> <td> 0.377</td> <td>   -2.030</td> <td>    0.768</td>\n",
       "</tr>\n",
       "<tr>\n",
       "  <th>trajectories_110:impmaize</th> <td>   -1.6275</td> <td>    0.680</td> <td>   -2.392</td> <td> 0.017</td> <td>   -2.961</td> <td>   -0.294</td>\n",
       "</tr>\n",
       "</table>\n",
       "<table class=\"simpletable\">\n",
       "<tr>\n",
       "  <th>Omnibus:</th>       <td>613.335</td> <th>  Durbin-Watson:     </th> <td>   1.824</td> \n",
       "</tr>\n",
       "<tr>\n",
       "  <th>Prob(Omnibus):</th> <td> 0.000</td>  <th>  Jarque-Bera (JB):  </th> <td> 587.589</td> \n",
       "</tr>\n",
       "<tr>\n",
       "  <th>Skew:</th>          <td> 0.957</td>  <th>  Prob(JB):          </th> <td>2.55e-128</td>\n",
       "</tr>\n",
       "<tr>\n",
       "  <th>Kurtosis:</th>      <td> 2.226</td>  <th>  Cond. No.          </th> <td>    12.6</td> \n",
       "</tr>\n",
       "</table><br/><br/>Notes:<br/>[1] R² is computed without centering (uncentered) since the model does not contain a constant.<br/>[2] Standard Errors are robust to cluster correlation (cluster)"
      ],
      "text/plain": [
       "<class 'statsmodels.iolib.summary.Summary'>\n",
       "\"\"\"\n",
       "                                       OLS Regression Results                                       \n",
       "====================================================================================================\n",
       "Dep. Variable:     np.arcsinh(YIELD_cropcutdry_tr)   R-squared (uncentered):                   0.243\n",
       "Model:                                         OLS   Adj. R-squared (uncentered):              0.240\n",
       "Method:                              Least Squares   F-statistic:                              81.11\n",
       "Date:                             Fri, 26 Nov 2021   Prob (F-statistic):                   6.11e-151\n",
       "Time:                                     10:26:13   Log-Likelihood:                         -8711.6\n",
       "No. Observations:                             3311   AIC:                                  1.745e+04\n",
       "Df Residuals:                                 3298   BIC:                                  1.753e+04\n",
       "Df Model:                                       13                                                  \n",
       "Covariance Type:                           cluster                                                  \n",
       "=============================================================================================\n",
       "                                coef    std err          z      P>|z|      [0.025      0.975]\n",
       "---------------------------------------------------------------------------------------------\n",
       "trajectories_000              2.0528      0.074     27.792      0.000       1.908       2.198\n",
       "trajectories_001              2.0115      0.312      6.457      0.000       1.401       2.622\n",
       "trajectories_010              2.1948      0.362      6.064      0.000       1.485       2.904\n",
       "trajectories_011              1.2052      0.303      3.972      0.000       0.611       1.800\n",
       "trajectories_100              2.0762      0.372      5.584      0.000       1.347       2.805\n",
       "trajectories_101              1.9979      0.605      3.304      0.001       0.813       3.183\n",
       "trajectories_110              3.5740      0.712      5.019      0.000       2.178       4.970\n",
       "trajectories_001:impmaize     0.5566      0.528      1.054      0.292      -0.479       1.592\n",
       "trajectories_010:impmaize    -0.8352      0.556     -1.504      0.133      -1.924       0.254\n",
       "trajectories_011:impmaize     0.9970      0.463      2.155      0.031       0.090       1.904\n",
       "trajectories_100:impmaize    -1.3764      0.535     -2.570      0.010      -2.426      -0.327\n",
       "trajectories_101:impmaize    -0.6308      0.714     -0.884      0.377      -2.030       0.768\n",
       "trajectories_110:impmaize    -1.6275      0.680     -2.392      0.017      -2.961      -0.294\n",
       "==============================================================================\n",
       "Omnibus:                      613.335   Durbin-Watson:                   1.824\n",
       "Prob(Omnibus):                  0.000   Jarque-Bera (JB):              587.589\n",
       "Skew:                           0.957   Prob(JB):                    2.55e-128\n",
       "Kurtosis:                       2.226   Cond. No.                         12.6\n",
       "==============================================================================\n",
       "\n",
       "Notes:\n",
       "[1] R² is computed without centering (uncentered) since the model does not contain a constant.\n",
       "[2] Standard Errors are robust to cluster correlation (cluster)\n",
       "\"\"\""
      ]
     },
     "execution_count": 8,
     "metadata": {},
     "output_type": "execute_result"
    }
   ],
   "source": [
    "reg_res_dict['YIELD_cropcutdry_tr'].summary()"
   ]
  },
  {
   "cell_type": "code",
   "execution_count": null,
   "metadata": {},
   "outputs": [],
   "source": [
    "def weak_id_test(res, start=-100, stop=100, inc=0.1):\n",
    "    trajectories = np.array([\"010\", \"011\", \"100\", \"101\", \"110\"])\n",
    "    ranger = np.arange(start, stop, inc)\n",
    "    mat = np.zeros((ranger.size, trajectories.size))\n",
    "    for i, phi in enumerate(tqdm(ranger)):\n",
    "        for j, traj in enumerate(trajectories):\n",
    "            test = f\"trajectories_{traj} - trajectories_001 = {phi}*(trajectories_{traj}:impmaize - trajectories_001:impmaize)\"\n",
    "            mat[i, j] = res.t_test(test).pvalue\n",
    "            \n",
    "    df= pd.DataFrame(columns = trajectories,\n",
    "                 index = pd.Index(ranger),\n",
    "                 data=mat)\n",
    "            \n",
    "    return df\n",
    "\n",
    "def weak_id_joint_test(res, start=-100, stop=100, inc=0.1):\n",
    "    \n",
    "    trajectories = np.array([\"010\", \"011\", \"100\", \"101\", \"110\"])\n",
    "    ranger = np.arange(start, stop, inc)\n",
    "    mat = np.zeros(ranger.size)\n",
    "    \n",
    "    for i, phi in enumerate(tqdm(ranger)):\n",
    "        joint_test_list = [f\"(trajectories_{traj} - trajectories_001 = {phi}*(trajectories_{traj}:impmaize - trajectories_001:impmaize))\" \\\n",
    "            for traj in trajectories]\n",
    "    \n",
    "        joint_test = ' , '.join(joint_test_list)\n",
    "        mat[i] = res.f_test(joint_test).pvalue\n",
    "\n",
    "    df= pd.DataFrame(columns = ['joint'],\n",
    "                 index = pd.Index(ranger),\n",
    "                 data=mat)\n",
    "            \n",
    "    return df\n",
    "\n",
    "def phi_ci(weak_id_df):\n",
    "    \n",
    "    phi_p_min = weak_id_df[weak_id_df.apply(lambda x: x > 0.05)].min()\n",
    "    phi_p_max = weak_id_df[weak_id_df.apply(lambda x: x > 0.05)].max()\n",
    "    \n",
    "    phi_df = pd.DataFrame(\n",
    "        index = ['min', 'max'],\n",
    "        columns = weak_id_df.columns\n",
    "    )\n",
    "    \n",
    "    for col, mi, ma in zip(weak_id_df.columns, phi_p_min, phi_p_max):\n",
    "        try:\n",
    "            phi_df.loc['min', col] = weak_id_df.index[weak_id_df[col] == mi].values[0]\n",
    "            phi_df.loc['max', col] = weak_id_df.index[weak_id_df[col] == ma].values[0]\n",
    "        except IndexError:\n",
    "            print(f\"\"\"Might be NaNs: \n",
    "                  phi_min = {phi_p_min.values[0]}\n",
    "                  phi_max = {phi_p_max.values[0]}\n",
    "                  \"\"\")\n",
    "        \n",
    "    return phi_df\n",
    "        "
   ]
  },
  {
   "cell_type": "code",
   "execution_count": null,
   "metadata": {},
   "outputs": [
    {
     "data": {
      "application/vnd.jupyter.widget-view+json": {
       "model_id": "89af8e2eb1544b74ba49a7605af53f5c",
       "version_major": 2,
       "version_minor": 0
      },
      "text/plain": [
       "  0%|          | 0/2000 [00:00<?, ?it/s]"
      ]
     },
     "metadata": {},
     "output_type": "display_data"
    }
   ],
   "source": [
    "weak_id_joint = weak_id_test(reg_res_dict['YIELD_cropcutfresh'])"
   ]
  },
  {
   "cell_type": "code",
   "execution_count": null,
   "metadata": {},
   "outputs": [
    {
     "data": {
      "text/html": [
       "<div>\n",
       "<style scoped>\n",
       "    .dataframe tbody tr th:only-of-type {\n",
       "        vertical-align: middle;\n",
       "    }\n",
       "\n",
       "    .dataframe tbody tr th {\n",
       "        vertical-align: top;\n",
       "    }\n",
       "\n",
       "    .dataframe thead th {\n",
       "        text-align: right;\n",
       "    }\n",
       "</style>\n",
       "<table border=\"1\" class=\"dataframe\">\n",
       "  <thead>\n",
       "    <tr style=\"text-align: right;\">\n",
       "      <th></th>\n",
       "      <th>010</th>\n",
       "      <th>011</th>\n",
       "      <th>100</th>\n",
       "      <th>101</th>\n",
       "      <th>110</th>\n",
       "    </tr>\n",
       "  </thead>\n",
       "  <tbody>\n",
       "    <tr>\n",
       "      <th>min</th>\n",
       "      <td>5.1</td>\n",
       "      <td>0.6</td>\n",
       "      <td>0.9</td>\n",
       "      <td>-0.8</td>\n",
       "      <td>-1.1</td>\n",
       "    </tr>\n",
       "    <tr>\n",
       "      <th>max</th>\n",
       "      <td>-0.2</td>\n",
       "      <td>-1.4</td>\n",
       "      <td>-0.1</td>\n",
       "      <td>0.2</td>\n",
       "      <td>-0.7</td>\n",
       "    </tr>\n",
       "  </tbody>\n",
       "</table>\n",
       "</div>"
      ],
      "text/plain": [
       "     010  011  100  101  110\n",
       "min  5.1  0.6  0.9 -0.8 -1.1\n",
       "max -0.2 -1.4 -0.1  0.2 -0.7"
      ]
     },
     "execution_count": 61,
     "metadata": {},
     "output_type": "execute_result"
    }
   ],
   "source": [
    "phi_ci(weak_id_joint)"
   ]
  },
  {
   "cell_type": "code",
   "execution_count": null,
   "metadata": {},
   "outputs": [
    {
     "ename": "SyntaxError",
     "evalue": "invalid syntax (2050269669.py, line 1)",
     "output_type": "error",
     "traceback": [
      "\u001b[0;36m  File \u001b[0;32m\"/tmp/ipykernel_157190/2050269669.py\"\u001b[0;36m, line \u001b[0;32m1\u001b[0m\n\u001b[0;31m    weak_id_joint[weak_id_joint.apply(lambda x: x > 0.05)].\u001b[0m\n\u001b[0m                                                           ^\u001b[0m\n\u001b[0;31mSyntaxError\u001b[0m\u001b[0;31m:\u001b[0m invalid syntax\n"
     ]
    }
   ],
   "source": [
    "weak_id_joint[weak_id_joint.apply(lambda x: x > 0.05)]."
   ]
  }
 ],
 "metadata": {
  "interpreter": {
   "hash": "4e1d9a8909477db77738c33245c29c7265277ef753467dede8cf3f814cde494e"
  },
  "kernelspec": {
   "display_name": "Python 3.9.7 64-bit",
   "name": "python3"
  },
  "language_info": {
   "codemirror_mode": {
    "name": "ipython",
    "version": 3
   },
   "file_extension": ".py",
   "mimetype": "text/x-python",
   "name": "python",
   "nbconvert_exporter": "python",
   "pygments_lexer": "ipython3",
   "version": "3.9.7"
  },
  "orig_nbformat": 4
 },
 "nbformat": 4,
 "nbformat_minor": 2
}
